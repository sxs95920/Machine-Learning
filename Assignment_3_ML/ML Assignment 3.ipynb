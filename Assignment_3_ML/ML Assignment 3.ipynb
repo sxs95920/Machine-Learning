{
 "cells": [
  {
   "cell_type": "code",
   "execution_count": null,
   "metadata": {},
   "outputs": [],
   "source": [
    "# ML ASSIGNMENT-3 // 700744962"
   ]
  },
  {
   "cell_type": "code",
   "execution_count": null,
   "metadata": {},
   "outputs": [],
   "source": [
    "# 1. Numpy:"
   ]
  },
  {
   "cell_type": "code",
   "execution_count": 2,
   "metadata": {},
   "outputs": [
    {
     "name": "stdout",
     "output_type": "stream",
     "text": [
      "(3, 5)\n",
      "[[ 2 15 19 16 14]\n",
      " [ 1  6 10 16  8]\n",
      " [ 6 13  1 15 15]]\n",
      "\n",
      " [[ 2 15  0 16 14]\n",
      " [ 1  6 10  0  8]\n",
      " [ 6 13  1  0  0]]\n"
     ]
    }
   ],
   "source": [
    "#a\n",
    "# Creating random vector of size 15 having only Integers in the range 1-20.\n",
    "import numpy as np\n",
    "v =  np.random.randint(1,20,(15,))\n",
    "\n",
    "# Reshaping the array to 3 by 5 \n",
    "arr = v.reshape(3,5)\n",
    "print(arr.shape)\n",
    "print(arr)\n",
    "\n",
    "# Replacing the max in each row by 0\n",
    "row_max = arr.max(axis=1).reshape(-1,1)\n",
    "arr = np.where(arr == row_max, 0, arr)\n",
    "print('\\n',arr)\n"
   ]
  },
  {
   "cell_type": "code",
   "execution_count": 3,
   "metadata": {},
   "outputs": [
    {
     "name": "stdout",
     "output_type": "stream",
     "text": [
      "Shape: (4, 3)\n",
      "Type: <class 'numpy.ndarray'>\n",
      "Data type: int32\n"
     ]
    }
   ],
   "source": [
    "# Create a 2-dimensional array of size 4 x 3 (composed of 4-byte integer elements), also print the shape, type and data type of the array\n",
    "x = np.array([[1, 2, 3], [4, 5, 6], [7, 8, 9], [10, 5, 7]], np.int32)\n",
    "print('Shape:', x.shape)\n",
    "print('Type:', type(x))\n",
    "print('Data type:', x.dtype)"
   ]
  },
  {
   "cell_type": "code",
   "execution_count": 4,
   "metadata": {},
   "outputs": [
    {
     "name": "stdout",
     "output_type": "stream",
     "text": [
      "Eigenvalues:  [2. 1.]\n",
      "Right Eigenvectors: \n",
      " [[0.89442719 0.70710678]\n",
      " [0.4472136  0.70710678]]\n"
     ]
    }
   ],
   "source": [
    "#B\n",
    "import numpy as np\n",
    "\n",
    "# create the square array\n",
    "A = np.array([[3, -2], [1, 0]])\n",
    "\n",
    "# compute eigenvalues and eigenvectors\n",
    "eigenvalues, eigenvectors = np.linalg.eig(A)\n",
    "\n",
    "# print the results\n",
    "print(\"Eigenvalues: \", eigenvalues)\n",
    "print(\"Right Eigenvectors: \\n\", eigenvectors)\n"
   ]
  },
  {
   "cell_type": "code",
   "execution_count": 5,
   "metadata": {},
   "outputs": [
    {
     "name": "stdout",
     "output_type": "stream",
     "text": [
      "Sum of diagonal elements:  4\n"
     ]
    }
   ],
   "source": [
    "#C\n",
    "import numpy as np\n",
    "\n",
    "# create the array\n",
    "A = np.array([[0, 1, 2], [3, 4, 5]])\n",
    "\n",
    "# compute the sum of diagonal elements\n",
    "diagonal_sum = np.trace(A)\n",
    "\n",
    "# print the result\n",
    "print(\"Sum of diagonal elements: \", diagonal_sum)\n"
   ]
  },
  {
   "cell_type": "code",
   "execution_count": 6,
   "metadata": {},
   "outputs": [
    {
     "name": "stdout",
     "output_type": "stream",
     "text": [
      "Original array:\n",
      " [[1 2]\n",
      " [3 4]\n",
      " [5 6]]\n",
      "New array:\n",
      " [[1 2 3]\n",
      " [4 5 6]]\n"
     ]
    }
   ],
   "source": [
    "#D\n",
    "import numpy as np\n",
    "\n",
    "# create the original array\n",
    "original_array = np.array([[1, 2], [3, 4], [5, 6]])\n",
    "\n",
    "# reshape the array to a new shape\n",
    "new_array = original_array.reshape((2, 3))\n",
    "\n",
    "# print both arrays to verify the data is not changed\n",
    "print(\"Original array:\\n\", original_array)\n",
    "print(\"New array:\\n\", new_array)\n"
   ]
  },
  {
   "cell_type": "code",
   "execution_count": 7,
   "metadata": {},
   "outputs": [
    {
     "name": "stdout",
     "output_type": "stream",
     "text": [
      "Original array:\n",
      " [[1 2 3]\n",
      " [4 5 6]]\n",
      "New array:\n",
      " [[1 2 3]\n",
      " [4 5 6]]\n"
     ]
    }
   ],
   "source": [
    "# Reshape 2x3:\n",
    "import numpy as np\n",
    "\n",
    "# create the original array\n",
    "original_array = np.array([[1, 2, 3], [4, 5, 6]])\n",
    "\n",
    "# reshape the array to a new shape\n",
    "new_array = original_array.reshape((2, 3))\n",
    "\n",
    "# print both arrays to verify the data is not changed\n",
    "print(\"Original array:\\n\", original_array)\n",
    "print(\"New array:\\n\", new_array)\n"
   ]
  },
  {
   "cell_type": "code",
   "execution_count": null,
   "metadata": {},
   "outputs": [],
   "source": []
  },
  {
   "cell_type": "code",
   "execution_count": null,
   "metadata": {},
   "outputs": [],
   "source": []
  }
 ],
 "metadata": {
  "kernelspec": {
   "display_name": "Python 3 (ipykernel)",
   "language": "python",
   "name": "python3"
  },
  "language_info": {
   "codemirror_mode": {
    "name": "ipython",
    "version": 3
   },
   "file_extension": ".py",
   "mimetype": "text/x-python",
   "name": "python",
   "nbconvert_exporter": "python",
   "pygments_lexer": "ipython3",
   "version": "3.11.5"
  }
 },
 "nbformat": 4,
 "nbformat_minor": 4
}
